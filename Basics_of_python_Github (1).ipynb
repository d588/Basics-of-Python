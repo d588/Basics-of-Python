{
 "cells": [
  {
   "cell_type": "code",
   "execution_count": 4,
   "metadata": {
    "scrolled": true
   },
   "outputs": [
    {
     "name": "stdout",
     "output_type": "stream",
     "text": [
      "Hello!\n",
      "Welcome\n",
      "to\n",
      "the\n",
      "Github\n"
     ]
    }
   ],
   "source": [
    "text=\"Hello! Welcome to the Github\"\n",
    "for i in text.split(' '):\n",
    "    print(i)"
   ]
  },
  {
   "cell_type": "code",
   "execution_count": 2,
   "metadata": {},
   "outputs": [
    {
     "name": "stdout",
     "output_type": "stream",
     "text": [
      "100 200\n",
      "[100, 102, 104, 106, 108, 110, 112, 114, 116, 118, 120, 122, 124, 126, 128, 130, 132, 134, 136, 138, 140, 142, 144, 146, 148, 150, 152, 154, 156, 158, 160, 162, 164, 166, 168, 170, 172, 174, 176, 178, 180, 182, 184, 186, 188, 190, 192, 194, 196, 198, 200]\n"
     ]
    }
   ],
   "source": [
    "x,y=input().split(' ')\n",
    "even_num=list(range(100,201,2))\n",
    "print(even_num)"
   ]
  },
  {
   "cell_type": "code",
   "execution_count": 1,
   "metadata": {},
   "outputs": [
    {
     "name": "stdout",
     "output_type": "stream",
     "text": [
      "i love ice cream\n",
      "ice cream\n",
      "desserts\n",
      "i love desserts\n"
     ]
    }
   ],
   "source": [
    "string=input()\n",
    "X=input()\n",
    "Y=input()\n",
    "print(string.replace(X,Y))"
   ]
  },
  {
   "cell_type": "code",
   "execution_count": 2,
   "metadata": {},
   "outputs": [
    {
     "name": "stdout",
     "output_type": "stream",
     "text": [
      "4235\n",
      "14\n"
     ]
    }
   ],
   "source": [
    "N=int(input())\n",
    "N_sum=0\n",
    "while N:\n",
    "    N_sum=N_sum+(N%10)\n",
    "    N=N//10\n",
    "print(N_sum)"
   ]
  },
  {
   "cell_type": "code",
   "execution_count": 3,
   "metadata": {},
   "outputs": [
    {
     "name": "stdout",
     "output_type": "stream",
     "text": [
      "6\n",
      "720\n"
     ]
    }
   ],
   "source": [
    "N=int(input())\n",
    "fact=1\n",
    "while N:\n",
    "    fact=fact*N\n",
    "    N=N-1\n",
    "print(fact)"
   ]
  },
  {
   "cell_type": "code",
   "execution_count": 4,
   "metadata": {},
   "outputs": [
    {
     "name": "stdout",
     "output_type": "stream",
     "text": [
      "*\n",
      "**\n",
      "***\n",
      "****\n",
      "*****\n"
     ]
    }
   ],
   "source": [
    "for i in range(5):\n",
    "    print('*'*(i+1))"
   ]
  },
  {
   "cell_type": "code",
   "execution_count": 5,
   "metadata": {},
   "outputs": [
    {
     "name": "stdout",
     "output_type": "stream",
     "text": [
      "      *\n",
      "     ***\n",
      "    *****\n",
      "   *******\n",
      "  *********\n"
     ]
    }
   ],
   "source": [
    "for i in range(5):\n",
    "    print(' '*(5-i+1)+'*'*(2*i+1))"
   ]
  },
  {
   "cell_type": "code",
   "execution_count": 8,
   "metadata": {},
   "outputs": [
    {
     "name": "stdout",
     "output_type": "stream",
     "text": [
      "5\n",
      "1\n",
      "2\n",
      "3\n",
      "3\n",
      "8\n",
      "[1, 2, 3, 3, 8]\n"
     ]
    }
   ],
   "source": [
    "N=int(input())\n",
    "list1=[]\n",
    "for i in range(N):\n",
    "    list1.append(int(input()))\n",
    "print(list1)"
   ]
  },
  {
   "cell_type": "code",
   "execution_count": 9,
   "metadata": {},
   "outputs": [
    {
     "name": "stdout",
     "output_type": "stream",
     "text": [
      "153\n",
      "Yes\n"
     ]
    }
   ],
   "source": [
    "num=input()\n",
    "s=0\n",
    "for i in list(num):\n",
    "    s=s+int(i)**3\n",
    "if s==int(num):\n",
    "    print('Yes')\n",
    "else:\n",
    "    print('No')"
   ]
  },
  {
   "cell_type": "code",
   "execution_count": 10,
   "metadata": {},
   "outputs": [
    {
     "name": "stdout",
     "output_type": "stream",
     "text": [
      "4\n",
      "3\n",
      "9\n",
      "30\n"
     ]
    }
   ],
   "source": [
    "N=int(input())\n",
    "a=int(input())\n",
    "d=int(input())\n",
    "num=a+(N-1)*d\n",
    "print(num)"
   ]
  },
  {
   "cell_type": "code",
   "execution_count": 11,
   "metadata": {},
   "outputs": [
    {
     "name": "stdout",
     "output_type": "stream",
     "text": [
      "5,2,3\n",
      "[2, 6, 18, 54, 162]\n"
     ]
    }
   ],
   "source": [
    "N,a,r=map(int,input().split(','))\n",
    "seq=[]\n",
    "for i in range(N):\n",
    "    seq.append(a*r**(i))\n",
    "print(seq)"
   ]
  },
  {
   "cell_type": "code",
   "execution_count": 12,
   "metadata": {},
   "outputs": [
    {
     "name": "stdout",
     "output_type": "stream",
     "text": [
      "Asmita dakore\n",
      "k 1\n",
      "e 1\n",
      "m 1\n",
      "A 1\n",
      "s 1\n",
      "  1\n",
      "d 1\n",
      "i 1\n",
      "r 1\n",
      "t 1\n",
      "a 2\n",
      "o 1\n"
     ]
    }
   ],
   "source": [
    "sentence=input()\n",
    "set_sentence=set(list(sentence))\n",
    "for i in set_sentence:\n",
    "    print(i,sentence.count(i))"
   ]
  },
  {
   "cell_type": "code",
   "execution_count": 13,
   "metadata": {},
   "outputs": [
    {
     "name": "stdout",
     "output_type": "stream",
     "text": [
      "Happy Birthday Asmita!! you are now 26\n",
      "Uppercase characters:  3\n",
      "Lowercase characters:  25\n",
      "Numbers: 2\n"
     ]
    }
   ],
   "source": [
    "sentence=input()\n",
    "up=0\n",
    "low=0\n",
    "num=0\n",
    "for i in sentence:\n",
    "    if i.isupper():\n",
    "        up=up+1\n",
    "    elif i.islower():\n",
    "        low=low+1\n",
    "    elif i.isdigit():\n",
    "        num=num+1\n",
    "print('Uppercase characters: ',up)\n",
    "print('Lowercase characters: ',low)\n",
    "print('Numbers:',num)"
   ]
  },
  {
   "cell_type": "code",
   "execution_count": 14,
   "metadata": {},
   "outputs": [
    {
     "name": "stdout",
     "output_type": "stream",
     "text": [
      "Madam\n",
      "No\n"
     ]
    }
   ],
   "source": [
    "word=input()\n",
    "if word==word[::-1]:\n",
    "    print('Yes')\n",
    "else:\n",
    "    print('No')"
   ]
  },
  {
   "cell_type": "code",
   "execution_count": 15,
   "metadata": {},
   "outputs": [
    {
     "name": "stdout",
     "output_type": "stream",
     "text": [
      "5\n",
      "3\n",
      "2\n",
      "7\n",
      "8\n",
      "1\n",
      "[1, 2, 3, 7, 8]\n"
     ]
    }
   ],
   "source": [
    "N=input()\n",
    "my_list=[]\n",
    "for i in range(int(N)):\n",
    "    my_list.append(int(input()))\n",
    "my_list.sort()\n",
    "print(my_list)"
   ]
  },
  {
   "cell_type": "code",
   "execution_count": 16,
   "metadata": {},
   "outputs": [
    {
     "name": "stdout",
     "output_type": "stream",
     "text": [
      "a b c d e f g h i j k l m n o p q r s t u v w x y z "
     ]
    }
   ],
   "source": [
    "for alphabet in range (97,123):\n",
    "    print(chr(alphabet),end=' ')"
   ]
  },
  {
   "cell_type": "code",
   "execution_count": 17,
   "metadata": {},
   "outputs": [
    {
     "name": "stdout",
     "output_type": "stream",
     "text": [
      "Basics of python\n",
      "nohtyp fo scisaB\n"
     ]
    }
   ],
   "source": [
    "my_str=input()\n",
    "print(my_str[::-1])"
   ]
  },
  {
   "cell_type": "code",
   "execution_count": 18,
   "metadata": {},
   "outputs": [
    {
     "name": "stdout",
     "output_type": "stream",
     "text": [
      "Always keep one finger on the Escape key\n",
      "syawlA peek eno regnif no eht epacsE yek \n"
     ]
    }
   ],
   "source": [
    "my_str=input().split(' ')\n",
    "rev_str=''\n",
    "for word in my_str:\n",
    "    rev_str=rev_str+word[::-1]+' '\n",
    "print(rev_str)"
   ]
  },
  {
   "cell_type": "code",
   "execution_count": 19,
   "metadata": {},
   "outputs": [
    {
     "name": "stdout",
     "output_type": "stream",
     "text": [
      "50 200\n",
      "65 195 "
     ]
    }
   ],
   "source": [
    "X,Y=map(int,input().split(' '))\n",
    "div=13*5\n",
    "for i in range(X,Y+1):\n",
    "    if i%div==0 and i%10!=0:\n",
    "        print(i, end=' ')"
   ]
  },
  {
   "cell_type": "code",
   "execution_count": 24,
   "metadata": {},
   "outputs": [
    {
     "name": "stdout",
     "output_type": "stream",
     "text": [
      "3\n",
      "4,6,2\n",
      "Permutation:  [[2, 6, 4], [6, 2, 4], [6, 4, 2], [2, 4, 6], [4, 2, 6], [4, 6, 2]]\n"
     ]
    }
   ],
   "source": [
    "N=int(input())\n",
    "seq=list(map(int,input().split(',')))\n",
    "perms = [[]]\n",
    "for num in seq:\n",
    "    temp = []\n",
    "    for perm in perms:\n",
    "        for i in range(len(perm)+1):\n",
    "            temp.append(perm[:i] + [num] + perm[i:])\n",
    "            perms = temp\n",
    "print(\"Permutation: \",perms)"
   ]
  },
  {
   "cell_type": "code",
   "execution_count": 27,
   "metadata": {},
   "outputs": [
    {
     "name": "stdout",
     "output_type": "stream",
     "text": [
      "john\n",
      "10\n",
      "26\n",
      "peter\n",
      "30\n",
      "30\n",
      "amy\n",
      "23\n",
      "12\n",
      "schumi\n",
      "10\n",
      "99\n",
      "anna\n",
      "16\n",
      "77\n"
     ]
    }
   ],
   "source": [
    "data={'Name':[],'Class':[],'Age':[]}\n",
    "for i in range(5):\n",
    "    data['Name'].append(input())\n",
    "    data['Class'].append(input())\n",
    "    data['Age'].append(input())"
   ]
  },
  {
   "cell_type": "code",
   "execution_count": 28,
   "metadata": {},
   "outputs": [
    {
     "name": "stdout",
     "output_type": "stream",
     "text": [
      "{'A': 10, 'B': 20, 'C': 30, 'D': 40, 'E': 50, 'F': 60}\n"
     ]
    }
   ],
   "source": [
    "dict1={'A':10, 'B':20}\n",
    "dict2={'C':30, 'D':40}\n",
    "dict3={'E':50,'F':60}\n",
    "new_dict=dict()\n",
    "new_dict.update(dict1)\n",
    "new_dict.update(dict2)\n",
    "new_dict.update(dict3)\n",
    "print(new_dict)"
   ]
  },
  {
   "cell_type": "code",
   "execution_count": null,
   "metadata": {},
   "outputs": [
    {
     "name": "stdout",
     "output_type": "stream",
     "text": [
      "R\n",
      "Lose\n"
     ]
    }
   ],
   "source": [
    "#Create a game of Rock, Papers and Scissors against computer using Python. Rules for the game are given\n",
    "#Rock beats Scissor\n",
    "#Scissor beats Paper\n",
    "#Paper beats Rock\n",
    "#If the play loses ask him either he wants to payback or not. If the response is 'Yes' then continue the game.\n",
    "#If the player says 'No' then display the final scores. Input moves as R for Rock, P for Paper and S for\n",
    "#scissors. Response to every move should be proper example:\n",
    "\n",
    "import random\n",
    "P1=0\n",
    "P2=0\n",
    "win_lose={'Lose':['RP','PS','SR'],'Draw':['RR','PP','SS'],'Win':['RS','PR','SP']}\n",
    "repeat='Yes'\n",
    "c=['R','S','P']\n",
    "while repeat=='Yes':\n",
    "    turn=input()\n",
    "    comp=random.choice(c)\n",
    "    for i in win_lose:\n",
    "        if str(turn)+comp in win_lose[i]:\n",
    "            print(i)\n",
    "            repeat=input('Play?')"
   ]
  },
  {
   "cell_type": "code",
   "execution_count": null,
   "metadata": {},
   "outputs": [],
   "source": []
  },
  {
   "cell_type": "code",
   "execution_count": null,
   "metadata": {},
   "outputs": [],
   "source": []
  },
  {
   "cell_type": "code",
   "execution_count": null,
   "metadata": {},
   "outputs": [],
   "source": []
  },
  {
   "cell_type": "code",
   "execution_count": null,
   "metadata": {},
   "outputs": [],
   "source": []
  },
  {
   "cell_type": "code",
   "execution_count": null,
   "metadata": {},
   "outputs": [],
   "source": []
  }
 ],
 "metadata": {
  "kernelspec": {
   "display_name": "Python 3",
   "language": "python",
   "name": "python3"
  },
  "language_info": {
   "codemirror_mode": {
    "name": "ipython",
    "version": 3
   },
   "file_extension": ".py",
   "mimetype": "text/x-python",
   "name": "python",
   "nbconvert_exporter": "python",
   "pygments_lexer": "ipython3",
   "version": "3.8.5"
  }
 },
 "nbformat": 4,
 "nbformat_minor": 4
}
